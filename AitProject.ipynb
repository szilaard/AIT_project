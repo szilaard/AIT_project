{
 "cells": [
  {
   "cell_type": "markdown",
   "metadata": {
    "colab_type": "text",
    "id": "view-in-github"
   },
   "source": [
    "<a href=\"https://colab.research.google.com/github/szilaard/AIT_project/blob/main/AitProject.ipynb\" target=\"_parent\"><img src=\"https://colab.research.google.com/assets/colab-badge.svg\" alt=\"Open In Colab\"/></a>"
   ]
  },
  {
   "cell_type": "markdown",
   "metadata": {
    "id": "5EuuKNSnR8YU"
   },
   "source": [
    "# AIT Deep Learning Project - Music genre classification based on audio\n",
    "\n",
    "Péter Czumbel, Szilárd Horváth\n"
   ]
  },
  {
   "cell_type": "code",
   "execution_count": 1,
   "metadata": {
    "id": "o5TQ_zjER30L"
   },
   "outputs": [],
   "source": [
    "import tensorflow as tf\n",
    "import librosa\n",
    "import pandas as pd\n",
    "from glob import glob\n",
    "from IPython.display import display\n",
    "from IPython.display import Audio\n",
    "import numpy as np\n",
    "import matplotlib.pyplot as plt\n",
    "import math\n",
    "from tensorflow.keras.utils import to_categorical\n",
    "from random import shuffle"
   ]
  },
  {
   "cell_type": "markdown",
   "metadata": {},
   "source": [
    "## 1. Exploring the data"
   ]
  },
  {
   "cell_type": "markdown",
   "metadata": {},
   "source": [
    "We are using the GTZAN dataset, which consists of 1000 audio tracks each 30 seconds long. It contains 10 genres, each represented by 100 tracks. The tracks are all 22050Hz Mono 16-bit audio files in .wav format. However, downloading the GTZAN dataset from tensorflow datasets doesn't work, the URL times out, \n",
    "(see: https://github.com/tensorflow/datasets/issues/4090), therefore we are using [this](https://www.kaggle.com/datasets/andradaolteanu/gtzan-dataset-music-genre-classification) version of the dataset from kaggle instead.<br>\n",
    "After downloading the dataset from Kaggle, extract the Data folder and place it into the projects root directory, if you wish to run the notebook yourself.\n",
    "\n"
   ]
  },
  {
   "cell_type": "markdown",
   "metadata": {},
   "source": [
    "### 1.1 Loading the dataset"
   ]
  },
  {
   "cell_type": "markdown",
   "metadata": {},
   "source": [
    "To download the dataset from kaggle, run the block below and upload your own kaggle API key"
   ]
  },
  {
   "cell_type": "code",
   "execution_count": null,
   "metadata": {},
   "outputs": [],
   "source": [
    "! pip install -q kaggle\n",
    "from google.colab import files\n",
    "files.upload()\n",
    "! mkdir ~/.kaggle\n",
    "! cp kaggle.json ~/.kaggle/\n",
    "! chmod 600 ~/.kaggle/kaggle.json\n",
    "! kaggle datasets download -d andradaolteanu/gtzan-dataset-music-genre-classification\n",
    "! unzip gtzan-dataset-music-genre-classification.zip"
   ]
  },
  {
   "cell_type": "markdown",
   "metadata": {},
   "source": [
    "First we read all the data from the directories:"
   ]
  },
  {
   "cell_type": "code",
   "execution_count": 180,
   "metadata": {},
   "outputs": [],
   "source": [
    "audio_files = glob(\"Data/genres_original/*/*.wav\")"
   ]
  },
  {
   "cell_type": "markdown",
   "metadata": {},
   "source": [
    "Setting some variables based on the dataset description:"
   ]
  },
  {
   "cell_type": "code",
   "execution_count": 181,
   "metadata": {},
   "outputs": [],
   "source": [
    "sample_rate = 22050   # sampling frequency\n",
    "duration = 30         # length of the tracks in seconds"
   ]
  },
  {
   "cell_type": "markdown",
   "metadata": {},
   "source": [
    "### 1.2 Examples"
   ]
  },
  {
   "cell_type": "markdown",
   "metadata": {},
   "source": [
    "There are 100 tracks of each genre, and our dataset is ordered, so if we check every 100th track, we can see all the different genres.<br>\n",
    "Example track for each genre:"
   ]
  },
  {
   "cell_type": "code",
   "execution_count": null,
   "metadata": {},
   "outputs": [],
   "source": [
    "for i in range(10):\n",
    "    print(audio_files[i*100].split(\"\\\\\")[1])\n",
    "    display(Audio(audio_files[i*100]))"
   ]
  },
  {
   "cell_type": "markdown",
   "metadata": {},
   "source": [
    "### 1.3 Plotting the waveforms"
   ]
  },
  {
   "cell_type": "markdown",
   "metadata": {},
   "source": [
    "Plotting the waveforms of different music genres, we can see that classifying most of the genres would probably be possible even by only using the waveform, however some genres, like country and metal can look quite similar. "
   ]
  },
  {
   "cell_type": "code",
   "execution_count": null,
   "metadata": {},
   "outputs": [],
   "source": [
    "fig = plt.figure(figsize=(20, 7))\n",
    "fig.tight_layout()\n",
    "rows = 2\n",
    "columns = 5\n",
    "for i in range(1, columns * rows + 1):\n",
    "    fig.add_subplot(rows, columns, i)\n",
    "    signal, sr = librosa.load(audio_files[(i-1)*100], sr=sample_rate)\n",
    "    librosa.display.waveshow(signal, sr=sample_rate)\n",
    "    plt.title(audio_files[(i-1)*100].split(\"\\\\\")[1])\n",
    "    plt.xlabel(\"\")\n",
    "plt.show()\n"
   ]
  },
  {
   "cell_type": "markdown",
   "metadata": {},
   "source": [
    "### 1.4 Plotting the MFCCs"
   ]
  },
  {
   "cell_type": "markdown",
   "metadata": {},
   "source": [
    "Setting variables for calculating the MFCCs:"
   ]
  },
  {
   "cell_type": "code",
   "execution_count": 182,
   "metadata": {},
   "outputs": [],
   "source": [
    "n_fft = 2048          # number of samples per fft - the size of the window when performing an fft\n",
    "n_mfcc = 13           # number of extracted coefficients\n",
    "hop_length = 512      # the amount we shift with each fft"
   ]
  },
  {
   "cell_type": "markdown",
   "metadata": {},
   "source": [
    "Plotting the MFCCs of different genres yields more easily differentiable data for each genre. We will be using this version of the data to train our deep neural network."
   ]
  },
  {
   "cell_type": "code",
   "execution_count": null,
   "metadata": {},
   "outputs": [],
   "source": [
    "fig = plt.figure(figsize=(20, 7))\n",
    "fig.tight_layout()\n",
    "rows = 2\n",
    "columns = 5\n",
    "for i in range(1, columns * rows + 1):\n",
    "    fig.add_subplot(rows, columns, i)\n",
    "    signal, sr = librosa.load(audio_files[(i-1)*100], sr=sample_rate)\n",
    "    mfcc = librosa.feature.mfcc(y=signal, sr=sample_rate, n_mfcc=n_mfcc, n_fft=n_fft, hop_length=hop_length)\n",
    "    librosa.display.specshow(mfcc, sr=sample_rate, hop_length=hop_length)\n",
    "    plt.title(audio_files[(i-1)*100].split(\"\\\\\")[1])\n",
    "plt.show()"
   ]
  },
  {
   "cell_type": "markdown",
   "metadata": {},
   "source": [
    "## 2. Preprocessing the dataset"
   ]
  },
  {
   "cell_type": "markdown",
   "metadata": {},
   "source": [
    "### 2.1 Splitting the tracks to segments and calculating MFCCs"
   ]
  },
  {
   "cell_type": "markdown",
   "metadata": {},
   "source": [
    "We create a data structure for the mappings, the raw mfcc data and the labels. This way we can save the preprocessed data as a JSON file later."
   ]
  },
  {
   "cell_type": "code",
   "execution_count": 183,
   "metadata": {},
   "outputs": [],
   "source": [
    "data = {\n",
    "    \"mapping\": [],  # mapping the names of the genres to indexes 0 to 9\n",
    "    \"mfcc\": [],     # array containing the mfcc arrays of the track segments\n",
    "    \"labels\": []    # array of the genre labels of the track segments\n",
    "}   "
   ]
  },
  {
   "cell_type": "markdown",
   "metadata": {},
   "source": [
    "We define these parameters so we can finetune them if needed in the future. These parameters are needed so we will get uniform shape outputs after the sampling and the transformation."
   ]
  },
  {
   "cell_type": "code",
   "execution_count": 6,
   "metadata": {},
   "outputs": [],
   "source": [
    "number_of_segments = 10      # the number of segments we want to split each track\n",
    "samples_per_track = sample_rate * duration  # how many samples do we get from each track\n",
    "samples_per_segment=int(samples_per_track/number_of_segments)    # how many samples are there in a segment\n",
    "num_mfcc_vectors_per_segment = math.ceil(samples_per_segment / hop_length)   # this is to check if the output has the correct dimensions"
   ]
  },
  {
   "cell_type": "markdown",
   "metadata": {},
   "source": [
    "For the next part we separate our audio data into segments, then we use mel frequency cepstral coefficients (MFCCs) on them. This transforms our data closer to what humans would hear/notice listening to the music."
   ]
  },
  {
   "cell_type": "code",
   "execution_count": 185,
   "metadata": {},
   "outputs": [
    {
     "name": "stderr",
     "output_type": "stream",
     "text": [
      "C:\\Users\\pczum\\AppData\\Local\\Temp\\ipykernel_28488\\3083834638.py:10: UserWarning: PySoundFile failed. Trying audioread instead.\n",
      "  signal, sr = librosa.load(audio_file)\n",
      "d:\\programs\\anaconda3\\envs\\ait\\lib\\site-packages\\librosa\\core\\audio.py:184: FutureWarning: librosa.core.audio.__audioread_load\n",
      "\tDeprecated as of librosa version 0.10.0.\n",
      "\tIt will be removed in librosa version 1.0.\n",
      "  y, sr_native = __audioread_load(path, offset, duration, dtype)\n"
     ]
    }
   ],
   "source": [
    "shuffle(audio_files)    # the audio files are ordered by category, its easier to shuffle them here while we only have to shuffle one array\n",
    "for audio_file in audio_files:\n",
    "    # cutting the name of the genre from the filename\n",
    "    genre = audio_file.split(\"\\\\\")[1]\n",
    "    # adding genre to mapping if its not already there\n",
    "    if genre not in data[\"mapping\"]:      \n",
    "        data[\"mapping\"].append(genre) \n",
    "    try:\n",
    "        # reading signal and sample rate from the file\n",
    "        signal, sr = librosa.load(audio_file) \n",
    "    except:\n",
    "        #there are some corrupted/non readable files so we dont process them\n",
    "        continue\n",
    "        \n",
    "    # we dont have much data, so we split the tracks into segments to increase our training data\n",
    "    for i in range(number_of_segments):\n",
    "        # calculating start and finish index of the segment\n",
    "        start = samples_per_segment * i\n",
    "        end = start + samples_per_segment\n",
    "        # Calculating the mfcc of the segment\n",
    "        mfcc = librosa.feature.mfcc(y=signal[start:end], sr=sample_rate, n_mfcc=n_mfcc, n_fft=n_fft, hop_length=hop_length)\n",
    "        mfcc = mfcc.T\n",
    "        # Some tracks are shorter than 30 seconds, so we have segments with incorrect length. We filter those out here\n",
    "        if len(mfcc) == num_mfcc_vectors_per_segment:\n",
    "            # Adding the mfcc and label to our data\n",
    "            data[\"mfcc\"].append(mfcc)\n",
    "            data[\"labels\"].append(data[\"mapping\"].index(genre))"
   ]
  },
  {
   "cell_type": "markdown",
   "metadata": {},
   "source": [
    "We transform the created lists into numpy arrays, so they are easier to handle."
   ]
  },
  {
   "cell_type": "code",
   "execution_count": 186,
   "metadata": {},
   "outputs": [],
   "source": [
    "data[\"mfcc\"] = np.array(data[\"mfcc\"], dtype=np.float32)\n",
    "data[\"labels\"] = np.array(data[\"labels\"], dtype=np.float32)"
   ]
  },
  {
   "cell_type": "code",
   "execution_count": 189,
   "metadata": {},
   "outputs": [],
   "source": [
    "data[\"mfcc\"] = data[\"mfcc\"].reshape(data[\"mfcc\"].shape[0], 65, 26, 1)"
   ]
  },
  {
   "cell_type": "markdown",
   "metadata": {},
   "source": [
    "### 2.3 Splitting training, testing and validation data"
   ]
  },
  {
   "cell_type": "markdown",
   "metadata": {},
   "source": [
    "We separate our data into training, validation and test datasets, we define the ratios so we can fine tune them later."
   ]
  },
  {
   "cell_type": "code",
   "execution_count": 191,
   "metadata": {},
   "outputs": [],
   "source": [
    "data_length = len(data[\"mfcc\"])\n",
    "train_ratio = 0.7\n",
    "valid_ratio = 0.2\n",
    "test_ratio = 0.1\n",
    "\n",
    "train_size = int(train_ratio*data_length)\n",
    "valid_size = int(valid_ratio*data_length)\n",
    "test_size = int(test_ratio*data_length)\n",
    "\n",
    "X_train = data[\"mfcc\"][:train_size]\n",
    "Y_train = data[\"labels\"][:train_size]\n",
    "X_valid = data[\"mfcc\"][train_size:train_size+valid_size]\n",
    "Y_valid = data[\"labels\"][train_size:train_size+valid_size]\n",
    "X_test = data[\"mfcc\"][train_size+valid_size:]\n",
    "Y_test = data[\"labels\"][train_size+valid_size:]\n"
   ]
  },
  {
   "cell_type": "markdown",
   "metadata": {},
   "source": [
    "### 2.3 Standardization"
   ]
  },
  {
   "cell_type": "markdown",
   "metadata": {},
   "source": [
    "We calculate the mean and variance of the training data, then use these values to standerdize the whole dataset."
   ]
  },
  {
   "cell_type": "code",
   "execution_count": 192,
   "metadata": {},
   "outputs": [],
   "source": [
    "X_train=np.asarray(X_train)\n",
    "Y_train=np.asarray(Y_train)\n",
    "X_valid=np.asarray(X_valid)\n",
    "Y_valid=np.asarray(Y_valid)\n",
    "X_test=np.asarray(X_test)\n",
    "Y_test=np.asarray(Y_test)"
   ]
  },
  {
   "cell_type": "code",
   "execution_count": 193,
   "metadata": {},
   "outputs": [],
   "source": [
    "mean = np.mean(X_train, axis=0)\n",
    "std  = np.std(X_train, axis=0, dtype=np.float32)"
   ]
  },
  {
   "cell_type": "code",
   "execution_count": 194,
   "metadata": {},
   "outputs": [],
   "source": [
    "X_train = (X_train - mean) / std\n",
    "X_valid = (X_valid - mean) / std\n",
    "X_test  = (X_test - mean) / std"
   ]
  },
  {
   "cell_type": "markdown",
   "metadata": {},
   "source": [
    "### 2.4 Encoding the labels and performing checks"
   ]
  },
  {
   "cell_type": "markdown",
   "metadata": {},
   "source": [
    "We check if each data set has the same number of categories in the output."
   ]
  },
  {
   "cell_type": "code",
   "execution_count": 195,
   "metadata": {},
   "outputs": [
    {
     "name": "stdout",
     "output_type": "stream",
     "text": [
      "Validation data has the same number of classes, as the training data: True\n",
      "Test data has the same number of classes, as the training data: True\n"
     ]
    }
   ],
   "source": [
    "nb_classes = len(np.unique(Y_train))\n",
    "print(\"Validation data has the same number of classes, as the training data:\", nb_classes == len(np.unique(Y_valid)))\n",
    "print(\"Test data has the same number of classes, as the training data:\", nb_classes == len(np.unique(Y_test)))"
   ]
  },
  {
   "cell_type": "markdown",
   "metadata": {},
   "source": [
    "We change the dense representation of the classes to one-hot encoding."
   ]
  },
  {
   "cell_type": "code",
   "execution_count": 196,
   "metadata": {},
   "outputs": [],
   "source": [
    "Y_train = to_categorical(Y_train)\n",
    "Y_valid = to_categorical(Y_valid)\n",
    "Y_test  = to_categorical(Y_test)"
   ]
  },
  {
   "cell_type": "markdown",
   "metadata": {},
   "source": [
    "Final check if the data has the right shape, mean and standard deviation."
   ]
  },
  {
   "cell_type": "code",
   "execution_count": 197,
   "metadata": {},
   "outputs": [
    {
     "name": "stdout",
     "output_type": "stream",
     "text": [
      "Shapes of the training, validation and test input data: (6990, 65, 26, 1) (1997, 65, 26, 1) (999, 65, 26, 1)\n",
      "Shapes of the training, validation and test output data: (6990, 10) (1997, 10) (999, 10)\n",
      "Mean values of the training, validation and test input data: 1.3239758e-09 0.011075033 0.019788973\n",
      "Standard deviation of the training, validation and test input data: 1.0000005 0.9772907 1.0139227\n"
     ]
    }
   ],
   "source": [
    "print(\"Shapes of the training, validation and test input data:\", X_train.shape, X_valid.shape, X_test.shape)\n",
    "print(\"Shapes of the training, validation and test output data:\", Y_train.shape, Y_valid.shape, Y_test.shape)\n",
    "print(\"Mean values of the training, validation and test input data:\", X_train.mean(), X_valid.mean(), X_test.mean())\n",
    "print(\"Standard deviation of the training, validation and test input data:\", X_train.std(), X_valid.std(), X_test.std())"
   ]
  },
  {
   "cell_type": "code",
   "execution_count": 198,
   "metadata": {},
   "outputs": [],
   "source": [
    "X_train = np.array([np.array(val) for val in X_train])\n",
    "Y_train = np.array([np.array(val) for val in Y_train])\n",
    "\n",
    "X_train = tf.cast(X_train , dtype=tf.float32)\n",
    "Y_train = tf.cast(Y_train , dtype=tf.float32)"
   ]
  },
  {
   "cell_type": "markdown",
   "metadata": {},
   "source": [
    "# 3. Models\n",
    "For models we decided to use..."
   ]
  },
  {
   "attachments": {},
   "cell_type": "markdown",
   "metadata": {},
   "source": [
    "### 3.1 CNN"
   ]
  },
  {
   "cell_type": "code",
   "execution_count": 223,
   "metadata": {},
   "outputs": [],
   "source": [
    "from tensorflow.keras.layers import Conv2D, AveragePooling2D, GlobalAveragePooling2D, Flatten, Dense, Dropout, BatchNormalization, Input\n",
    "from tensorflow.keras.regularizers import l1, l2"
   ]
  },
  {
   "cell_type": "code",
   "execution_count": 252,
   "metadata": {},
   "outputs": [],
   "source": [
    "es = EarlyStopping(monitor='val_accuracy', mode='auto', verbose=1, patience=5, restore_best_weights=True)"
   ]
  },
  {
   "cell_type": "code",
   "execution_count": 258,
   "metadata": {},
   "outputs": [],
   "source": [
    "input = Input(shape=(X_train.shape[1:]))\n",
    "conv1 = Conv2D(filters=256, kernel_size=3, activation='relu', padding='valid', kernel_initializer='glorot_normal')(input)\n",
    "conv2 = Conv2D(filters=256, kernel_size=3, activation='relu', padding='valid', kernel_initializer='glorot_normal')(conv1)\n",
    "ap = AveragePooling2D(pool_size=3, strides=2, padding='same')(conv2)\n",
    "ap = BatchNormalization()(ap)\n",
    "conv3 = Conv2D(filters=256, kernel_size=3, activation='relu', padding='valid', kernel_initializer='glorot_normal')(ap)\n",
    "ap = AveragePooling2D(pool_size=3, strides=2, padding='same')(conv3)\n",
    "ap = BatchNormalization()(ap)\n",
    "conv4 = Conv2D(filters=512, kernel_size=4, activation='relu', padding='valid', kernel_initializer='glorot_normal')(ap)\n",
    "ap = GlobalAveragePooling2D()(conv4)\n",
    "dense1 = Dense(256, activation='relu')(ap)\n",
    "dense1 = Dropout(0.1)(dense1)\n",
    "dense2 = Dense(128, activation='relu')(dense1)\n",
    "output = Dense(nb_classes, activation='softmax')(dense2)\n",
    "conv_model = tf.keras.Model(inputs=input, outputs=output)\n"
   ]
  },
  {
   "cell_type": "code",
   "execution_count": 259,
   "metadata": {},
   "outputs": [
    {
     "name": "stdout",
     "output_type": "stream",
     "text": [
      "Model: \"model_31\"\n",
      "_________________________________________________________________\n",
      " Layer (type)                Output Shape              Param #   \n",
      "=================================================================\n",
      " input_49 (InputLayer)       [(None, 65, 26, 1)]       0         \n",
      "                                                                 \n",
      " conv2d_305 (Conv2D)         (None, 63, 24, 256)       2560      \n",
      "                                                                 \n",
      " conv2d_306 (Conv2D)         (None, 61, 22, 256)       590080    \n",
      "                                                                 \n",
      " average_pooling2d_82 (Avera  (None, 31, 11, 256)      0         \n",
      " gePooling2D)                                                    \n",
      "                                                                 \n",
      " batch_normalization_118 (Ba  (None, 31, 11, 256)      1024      \n",
      " tchNormalization)                                               \n",
      "                                                                 \n",
      " conv2d_307 (Conv2D)         (None, 29, 9, 256)        590080    \n",
      "                                                                 \n",
      " average_pooling2d_83 (Avera  (None, 15, 5, 256)       0         \n",
      " gePooling2D)                                                    \n",
      "                                                                 \n",
      " batch_normalization_119 (Ba  (None, 15, 5, 256)       1024      \n",
      " tchNormalization)                                               \n",
      "                                                                 \n",
      " conv2d_308 (Conv2D)         (None, 12, 2, 512)        2097664   \n",
      "                                                                 \n",
      " global_average_pooling2d_29  (None, 512)              0         \n",
      "  (GlobalAveragePooling2D)                                       \n",
      "                                                                 \n",
      " dense_155 (Dense)           (None, 256)               131328    \n",
      "                                                                 \n",
      " dropout_11 (Dropout)        (None, 256)               0         \n",
      "                                                                 \n",
      " dense_156 (Dense)           (None, 128)               32896     \n",
      "                                                                 \n",
      " dense_157 (Dense)           (None, 10)                1290      \n",
      "                                                                 \n",
      "=================================================================\n",
      "Total params: 3,447,946\n",
      "Trainable params: 3,446,922\n",
      "Non-trainable params: 1,024\n",
      "_________________________________________________________________\n"
     ]
    }
   ],
   "source": [
    "conv_model.summary()"
   ]
  },
  {
   "cell_type": "code",
   "execution_count": 260,
   "metadata": {},
   "outputs": [],
   "source": [
    "conv_model.compile(optimizer = 'adam', loss = 'categorical_crossentropy', metrics = ['accuracy'])"
   ]
  },
  {
   "cell_type": "code",
   "execution_count": 261,
   "metadata": {},
   "outputs": [
    {
     "name": "stdout",
     "output_type": "stream",
     "text": [
      "Epoch 1/50\n",
      "437/437 [==============================] - 7s 16ms/step - loss: 1.5694 - accuracy: 0.4562 - val_loss: 1.3484 - val_accuracy: 0.5188\n",
      "Epoch 2/50\n",
      "437/437 [==============================] - 7s 15ms/step - loss: 1.1724 - accuracy: 0.5848 - val_loss: 1.1628 - val_accuracy: 0.6119\n",
      "Epoch 3/50\n",
      "437/437 [==============================] - 6s 15ms/step - loss: 0.9584 - accuracy: 0.6661 - val_loss: 1.1552 - val_accuracy: 0.6179\n",
      "Epoch 4/50\n",
      "437/437 [==============================] - 6s 15ms/step - loss: 0.8316 - accuracy: 0.7070 - val_loss: 1.1182 - val_accuracy: 0.6440\n",
      "Epoch 5/50\n",
      "437/437 [==============================] - 6s 15ms/step - loss: 0.7018 - accuracy: 0.7548 - val_loss: 1.2484 - val_accuracy: 0.6340\n",
      "Epoch 6/50\n",
      "437/437 [==============================] - 6s 15ms/step - loss: 0.5885 - accuracy: 0.7963 - val_loss: 1.3175 - val_accuracy: 0.6535\n",
      "Epoch 7/50\n",
      "437/437 [==============================] - 6s 14ms/step - loss: 0.4659 - accuracy: 0.8411 - val_loss: 1.1672 - val_accuracy: 0.6760\n",
      "Epoch 8/50\n",
      "437/437 [==============================] - 6s 15ms/step - loss: 0.3919 - accuracy: 0.8648 - val_loss: 1.3647 - val_accuracy: 0.6530\n",
      "Epoch 9/50\n",
      "437/437 [==============================] - 6s 15ms/step - loss: 0.3190 - accuracy: 0.8887 - val_loss: 1.4453 - val_accuracy: 0.6545\n",
      "Epoch 10/50\n",
      "437/437 [==============================] - 6s 15ms/step - loss: 0.2694 - accuracy: 0.9089 - val_loss: 1.3620 - val_accuracy: 0.7026\n",
      "Epoch 11/50\n",
      "437/437 [==============================] - 6s 15ms/step - loss: 0.2504 - accuracy: 0.9155 - val_loss: 1.3344 - val_accuracy: 0.6930\n",
      "Epoch 12/50\n",
      "437/437 [==============================] - 6s 15ms/step - loss: 0.1858 - accuracy: 0.9399 - val_loss: 1.5463 - val_accuracy: 0.6860\n",
      "Epoch 13/50\n",
      "437/437 [==============================] - 6s 14ms/step - loss: 0.1530 - accuracy: 0.9481 - val_loss: 1.8730 - val_accuracy: 0.6365\n",
      "Epoch 14/50\n",
      "437/437 [==============================] - 6s 14ms/step - loss: 0.1681 - accuracy: 0.9431 - val_loss: 1.7462 - val_accuracy: 0.6980\n",
      "Epoch 15/50\n",
      "437/437 [==============================] - ETA: 0s - loss: 0.1187 - accuracy: 0.9594Restoring model weights from the end of the best epoch: 10.\n",
      "437/437 [==============================] - 6s 15ms/step - loss: 0.1187 - accuracy: 0.9594 - val_loss: 1.7698 - val_accuracy: 0.6820\n",
      "Epoch 15: early stopping\n"
     ]
    },
    {
     "data": {
      "text/plain": [
       "<keras.callbacks.History at 0x20b97496c80>"
      ]
     },
     "execution_count": 261,
     "metadata": {},
     "output_type": "execute_result"
    }
   ],
   "source": [
    "conv_model.fit(X_train, Y_train, epochs=50, batch_size=16, validation_data=(X_valid, Y_valid), verbose=1, callbacks=es)"
   ]
  },
  {
   "cell_type": "code",
   "execution_count": 262,
   "metadata": {},
   "outputs": [
    {
     "name": "stdout",
     "output_type": "stream",
     "text": [
      "32/32 [==============================] - 0s 11ms/step\n",
      "              precision    recall  f1-score   support\n",
      "\n",
      "           0       0.56      0.56      0.56       130\n",
      "           1       0.52      0.61      0.57        70\n",
      "           2       0.59      0.16      0.25       120\n",
      "           3       0.68      0.63      0.65       100\n",
      "           4       0.69      0.95      0.80        80\n",
      "           5       0.68      0.71      0.70       139\n",
      "           6       0.47      0.74      0.58        80\n",
      "           7       0.92      0.88      0.90        80\n",
      "           8       0.70      0.71      0.70        90\n",
      "           9       0.76      0.79      0.78       110\n",
      "\n",
      "    accuracy                           0.65       999\n",
      "   macro avg       0.66      0.67      0.65       999\n",
      "weighted avg       0.66      0.65      0.64       999\n",
      "\n"
     ]
    },
    {
     "data": {
      "text/plain": [
       "<Axes: >"
      ]
     },
     "execution_count": 262,
     "metadata": {},
     "output_type": "execute_result"
    },
    {
     "data": {
      "image/png": "[encoded data removed]",
      "text/plain": [
       "<Figure size 640x480 with 2 Axes>"
      ]
     },
     "metadata": {},
     "output_type": "display_data"
    }
   ],
   "source": [
    "from sklearn.metrics import confusion_matrix, classification_report\n",
    "import seaborn as sns\n",
    "preds = conv_model.predict(X_test)\n",
    "print(classification_report(np.argmax(Y_test,1),np.argmax(preds,1)))\n",
    "conf=confusion_matrix(np.argmax(Y_test,1),np.argmax(preds,1))\n",
    "sns.heatmap(conf, annot=True, fmt='d', vmax=100)"
   ]
  },
  {
   "cell_type": "code",
   "execution_count": 266,
   "metadata": {},
   "outputs": [
    {
     "name": "stderr",
     "output_type": "stream",
     "text": [
      "WARNING:absl:Found untraced functions such as _jit_compiled_convolution_op, _jit_compiled_convolution_op, _jit_compiled_convolution_op while saving (showing 3 of 3). These functions will not be directly callable after loading.\n"
     ]
    },
    {
     "name": "stdout",
     "output_type": "stream",
     "text": [
      "INFO:tensorflow:Assets written to: ./models/assets\n"
     ]
    },
    {
     "name": "stderr",
     "output_type": "stream",
     "text": [
      "INFO:tensorflow:Assets written to: ./models/assets\n"
     ]
    }
   ],
   "source": [
    "conv.save(filepath=\"./models/\",save_format=\"tf\")"
   ]
  }
 ],
 "metadata": {
  "colab": {
   "authorship_tag": "ABX9TyPeiS6h3OAXVnkq67zCtqPm",
   "include_colab_link": true,
   "provenance": []
  },
  "kernelspec": {
   "display_name": "Python 3 (ipykernel)",
   "language": "python",
   "name": "python3"
  },
  "language_info": {
   "codemirror_mode": {
    "name": "ipython",
    "version": 3
   },
   "file_extension": ".py",
   "mimetype": "text/x-python",
   "name": "python",
   "nbconvert_exporter": "python",
   "pygments_lexer": "ipython3",
   "version": "3.10.10"
  }
 },
 "nbformat": 4,
 "nbformat_minor": 1
}
