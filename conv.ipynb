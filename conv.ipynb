{
 "cells": [
  {
   "cell_type": "code",
   "execution_count": 119,
   "metadata": {},
   "outputs": [],
   "source": [
    "import numpy as np\n",
    "from tensorflow.keras.utils import to_categorical\n",
    "from tensorflow.keras.layers import Dense, Dropout, LSTM\n",
    "from tensorflow.keras.layers import Conv2D, AveragePooling2D, GlobalAveragePooling2D, Flatten, Dense, Dropout, BatchNormalization, Input\n",
    "from tensorflow.keras.models import Sequential\n",
    "import tensorflow as tf\n",
    "import utils.data\n",
    "from utils.layers import Encoder\n",
    "from sklearn.metrics import confusion_matrix, classification_report\n",
    "import seaborn as sns"
   ]
  },
  {
   "cell_type": "code",
   "execution_count": 120,
   "metadata": {},
   "outputs": [],
   "source": [
    "data = utils.data.get_dataset(mode='mel')"
   ]
  },
  {
   "cell_type": "code",
   "execution_count": 121,
   "metadata": {},
   "outputs": [],
   "source": [
    "data_length = len(data[\"mfcc\"])\n",
    "train_ratio = 0.7\n",
    "valid_ratio = 0.2\n",
    "test_ratio = 0.1\n",
    "\n",
    "X_train = []\n",
    "Y_train = []\n",
    "X_valid = []\n",
    "Y_valid = []\n",
    "X_test = []\n",
    "Y_test = []\n",
    "\n",
    "for i in range(len(data[\"mapping\"])):\n",
    "    data_length = data[\"labels\"].count(i)\n",
    "    start = data[\"labels\"].index(i)\n",
    "    train_size = int(train_ratio*data_length)\n",
    "    valid_size = int(valid_ratio*data_length)\n",
    "    test_size = int(test_ratio*data_length)\n",
    "\n",
    "    for element in data[\"mfcc\"][start:start+train_size]:\n",
    "        X_train.append(element)\n",
    "    for element in data[\"labels\"][start:start+train_size]:\n",
    "        Y_train.append(element)\n",
    "    for element in data[\"mfcc\"][start+train_size:start+train_size+valid_size]:\n",
    "        X_valid.append(element)\n",
    "    for element in data[\"labels\"][start+train_size:start+train_size+valid_size]:\n",
    "        Y_valid.append(element)\n",
    "    for element in data[\"mfcc\"][start+train_size+valid_size:start+train_size+valid_size+test_size]:\n",
    "        X_test.append(element)\n",
    "    for element in data[\"labels\"][start+train_size+valid_size:start+train_size+valid_size+test_size]:\n",
    "        Y_test.append(element)"
   ]
  },
  {
   "cell_type": "code",
   "execution_count": 122,
   "metadata": {},
   "outputs": [],
   "source": [
    "X_train=np.array(X_train)\n",
    "Y_train=np.array(Y_train)\n",
    "X_valid=np.array(X_valid)\n",
    "Y_valid=np.array(Y_valid)\n",
    "X_test=np.array(X_test)\n",
    "Y_test=np.array(Y_test)"
   ]
  },
  {
   "cell_type": "code",
   "execution_count": 123,
   "metadata": {},
   "outputs": [
    {
     "data": {
      "text/plain": [
       "(6989, 130, 100)"
      ]
     },
     "execution_count": 123,
     "metadata": {},
     "output_type": "execute_result"
    }
   ],
   "source": [
    "X_train.shape"
   ]
  },
  {
   "cell_type": "code",
   "execution_count": 124,
   "metadata": {},
   "outputs": [],
   "source": [
    "X_train = tf.expand_dims(X_train, axis=-1)\n",
    "X_valid = tf.expand_dims(X_valid, axis=-1)\n",
    "X_test = tf.expand_dims(X_test, axis=-1)"
   ]
  },
  {
   "cell_type": "code",
   "execution_count": 125,
   "metadata": {},
   "outputs": [],
   "source": [
    "Y_train = to_categorical(Y_train)\n",
    "Y_valid = to_categorical(Y_valid)\n",
    "Y_test  = to_categorical(Y_test)"
   ]
  },
  {
   "cell_type": "code",
   "execution_count": 126,
   "metadata": {},
   "outputs": [],
   "source": [
    "# Using the functional API to build a model\n",
    "input = Input(shape=(X_train.shape[1:]))\n",
    "conv1 = Conv2D(filters=256, kernel_size=3, activation='relu', padding='valid', kernel_initializer='glorot_normal')(input)\n",
    "conv2 = Conv2D(filters=256, kernel_size=3, activation='relu', padding='valid', kernel_initializer='glorot_normal')(conv1)\n",
    "# Pooling layer to reduce the dimensionality of the output (downsampling)\n",
    "ap = AveragePooling2D(pool_size=3, strides=2, padding='same')(conv2)\n",
    "# Batch normalization to normalize the activations of the previous layer at each batch\n",
    "ap = BatchNormalization()(ap)\n",
    "conv3 = Conv2D(filters=256, kernel_size=3, activation='relu', padding='valid', kernel_initializer='glorot_normal')(ap)\n",
    "ap = AveragePooling2D(pool_size=3, strides=2, padding='same')(conv3)\n",
    "ap = BatchNormalization()(ap)\n",
    "conv4 = Conv2D(filters=128, kernel_size=4, activation='relu', padding='valid', kernel_initializer='glorot_normal')(ap)\n",
    "# Global average pooling to reduce the dimensionality of the output (no parameters to learn)\n",
    "ap = GlobalAveragePooling2D()(conv4)\n",
    "dense1 = Dense(256, activation='relu')(ap)\n",
    "dense1 = Dropout(0.1)(dense1)\n",
    "dense2 = Dense(128, activation='relu')(dense1)\n",
    "# Output layer with softmax activation\n",
    "output = Dense(len(data[\"mapping\"]), activation='softmax')(dense2)\n",
    "conv_model = tf.keras.Model(inputs=input, outputs=output)\n"
   ]
  },
  {
   "cell_type": "code",
   "execution_count": 127,
   "metadata": {},
   "outputs": [
    {
     "name": "stdout",
     "output_type": "stream",
     "text": [
      "Model: \"model_1\"\n",
      "_________________________________________________________________\n",
      " Layer (type)                Output Shape              Param #   \n",
      "=================================================================\n",
      " input_2 (InputLayer)        [(None, 130, 100, 1)]     0         \n",
      "                                                                 \n",
      " conv2d_4 (Conv2D)           (None, 128, 98, 256)      2560      \n",
      "                                                                 \n",
      " conv2d_5 (Conv2D)           (None, 126, 96, 256)      590080    \n",
      "                                                                 \n",
      " average_pooling2d_2 (Averag  (None, 63, 48, 256)      0         \n",
      " ePooling2D)                                                     \n",
      "                                                                 \n",
      " batch_normalization_2 (Batc  (None, 63, 48, 256)      1024      \n",
      " hNormalization)                                                 \n",
      "                                                                 \n",
      " conv2d_6 (Conv2D)           (None, 61, 46, 256)       590080    \n",
      "                                                                 \n",
      " average_pooling2d_3 (Averag  (None, 31, 23, 256)      0         \n",
      " ePooling2D)                                                     \n",
      "                                                                 \n",
      " batch_normalization_3 (Batc  (None, 31, 23, 256)      1024      \n",
      " hNormalization)                                                 \n",
      "                                                                 \n",
      " conv2d_7 (Conv2D)           (None, 28, 20, 128)       524416    \n",
      "                                                                 \n",
      " global_average_pooling2d_1   (None, 128)              0         \n",
      " (GlobalAveragePooling2D)                                        \n",
      "                                                                 \n",
      " dense_3 (Dense)             (None, 256)               33024     \n",
      "                                                                 \n",
      " dropout_1 (Dropout)         (None, 256)               0         \n",
      "                                                                 \n",
      " dense_4 (Dense)             (None, 128)               32896     \n",
      "                                                                 \n",
      " dense_5 (Dense)             (None, 10)                1290      \n",
      "                                                                 \n",
      "=================================================================\n",
      "Total params: 1,776,394\n",
      "Trainable params: 1,775,370\n",
      "Non-trainable params: 1,024\n",
      "_________________________________________________________________\n"
     ]
    }
   ],
   "source": [
    "conv_model.summary()"
   ]
  },
  {
   "cell_type": "code",
   "execution_count": 128,
   "metadata": {},
   "outputs": [],
   "source": [
    "es = tf.keras.callbacks.EarlyStopping(monitor='val_accuracy', mode='auto', verbose=1, patience=5, restore_best_weights=True)"
   ]
  },
  {
   "cell_type": "code",
   "execution_count": 129,
   "metadata": {},
   "outputs": [],
   "source": [
    "conv_model.compile(optimizer = 'adam', loss = 'categorical_crossentropy', metrics = ['accuracy'])"
   ]
  },
  {
   "cell_type": "code",
   "execution_count": null,
   "metadata": {},
   "outputs": [],
   "source": [
    "conv_model.fit(X_train, Y_train, epochs=50, batch_size=64, validation_data=(X_valid, Y_valid), verbose=1, callbacks=es)"
   ]
  },
  {
   "cell_type": "code",
   "execution_count": null,
   "metadata": {},
   "outputs": [
    {
     "name": "stdout",
     "output_type": "stream",
     "text": [
      "32/32 [==============================] - 2s 41ms/step\n",
      "              precision    recall  f1-score   support\n",
      "\n",
      "           0       0.49      0.25      0.33       100\n",
      "           1       0.89      0.66      0.76        99\n",
      "           2       0.52      0.93      0.66        99\n",
      "           3       0.74      0.91      0.82        99\n",
      "           4       0.95      0.73      0.82        99\n",
      "           5       0.53      0.67      0.59        99\n",
      "           6       0.59      0.82      0.69       100\n",
      "           7       0.99      0.90      0.94       100\n",
      "           8       0.65      0.70      0.68       100\n",
      "           9       0.23      0.08      0.12       100\n",
      "\n",
      "    accuracy                           0.66       995\n",
      "   macro avg       0.66      0.66      0.64       995\n",
      "weighted avg       0.66      0.66      0.64       995\n",
      "\n"
     ]
    },
    {
     "data": {
      "text/plain": [
       "<Axes: >"
      ]
     },
     "execution_count": 14,
     "metadata": {},
     "output_type": "execute_result"
    },
    {
     "data": {
      "image/png": "[encoded data removed]",
      "text/plain": [
       "<Figure size 640x480 with 2 Axes>"
      ]
     },
     "metadata": {},
     "output_type": "display_data"
    }
   ],
   "source": [
    "preds = conv_model.predict(X_test)\n",
    "print(classification_report(np.argmax(Y_test,1),np.argmax(preds,1)))\n",
    "conf=confusion_matrix(np.argmax(Y_test,1),np.argmax(preds,1))\n",
    "sns.heatmap(conf, annot=True, fmt='d', vmax=100)"
   ]
  },
  {
   "cell_type": "code",
   "execution_count": null,
   "metadata": {},
   "outputs": [],
   "source": [
    "for i in range(len(data[\"mapping\"])):\n",
    "    print(str(i)+\"\\t\"+data[\"mapping\"][i])"
   ]
  },
  {
   "cell_type": "code",
   "execution_count": null,
   "metadata": {},
   "outputs": [],
   "source": [
    "conv_model.save('./models/conv.h5')"
   ]
  },
  {
   "cell_type": "code",
   "execution_count": null,
   "metadata": {},
   "outputs": [],
   "source": [
    "import librosa\n",
    "from utils.data import *"
   ]
  },
  {
   "cell_type": "code",
   "execution_count": 131,
   "metadata": {},
   "outputs": [],
   "source": [
    "conv_model.load_weights('./models/conv3.h5')"
   ]
  },
  {
   "cell_type": "code",
   "execution_count": 159,
   "metadata": {},
   "outputs": [],
   "source": [
    "def predict_genre(signal, sr=22050, threshold=0.7):\n",
    "    segments = []\n",
    "    n_segments = signal.shape[0] // samples_per_segment\n",
    "    intro = 0\n",
    "    outro = n_segments\n",
    "    if n_segments > 20:\n",
    "        intro = int(n_segments * 0.2)\n",
    "        outro = n_segments - int(n_segments * 0.2)\n",
    "    for i in range(intro, outro):\n",
    "        # calculating start and finish index of the segment\n",
    "        start = samples_per_segment * i\n",
    "        end = start + samples_per_segment\n",
    "        # Calculating the mfcc of the segment\n",
    "        feature = librosa.feature.melspectrogram(y=signal[start:end], sr=sr, n_mels=n_mfcc_mel, n_fft=n_fft, hop_length=hop_length)\n",
    "        feature = (librosa.power_to_db(feature, ref=np.max) + 40) / 40\n",
    "        feature = feature.T.tolist()\n",
    "        if len(feature) == num_mfcc_vectors_per_segment:\n",
    "            # Adding the mfcc and label to our data\n",
    "            segments.append(feature)\n",
    "\n",
    "    segments = np.array(segments)\n",
    "    aggr = np.zeros(10)\n",
    "    for segment in segments:\n",
    "        segment = tf.expand_dims(segment, axis=-1)\n",
    "        segment = tf.expand_dims(segment, axis=0)\n",
    "        p = conv_model.predict(segment, verbose=0)\n",
    "        if max(p[0]) > threshold:\n",
    "            aggr += p[0] / np.sum(p[0])\n",
    "    aggr /= np.sum(aggr)\n",
    "    pred = np.argmax(aggr)\n",
    "\n",
    "    print(data[\"mapping\"][pred] + \"\\t\" + str(aggr[np.argmax(aggr)] * 100) + \"%\")"
   ]
  },
  {
   "cell_type": "code",
   "execution_count": 160,
   "metadata": {},
   "outputs": [
    {
     "name": "stdout",
     "output_type": "stream",
     "text": [
      "classical\t96.60306981471089%\n"
     ]
    }
   ],
   "source": [
    "signal, sr = librosa.load('./demo/Symphony-no.-40-in-G-minor-K.-550-I.-Molto-Allegro.mp3')\n",
    "predict_genre(signal, sr)"
   ]
  },
  {
   "cell_type": "code",
   "execution_count": 169,
   "metadata": {},
   "outputs": [
    {
     "name": "stdout",
     "output_type": "stream",
     "text": [
      "jazz\t86.8808906330479%\n"
     ]
    }
   ],
   "source": [
    "signal, sr = librosa.load('./demo/take-five.mp3')\n",
    "predict_genre(signal, sr)"
   ]
  },
  {
   "cell_type": "code",
   "execution_count": 170,
   "metadata": {},
   "outputs": [
    {
     "name": "stdout",
     "output_type": "stream",
     "text": [
      "rock\t36.07794401194706%\n"
     ]
    }
   ],
   "source": [
    "signal, sr = librosa.load('./demo/The Offspring - You\\'re Gonna Go Far, Kid (128 kbps).mp3')\n",
    "predict_genre(signal, sr)"
   ]
  },
  {
   "cell_type": "code",
   "execution_count": 168,
   "metadata": {},
   "outputs": [
    {
     "name": "stdout",
     "output_type": "stream",
     "text": [
      "pop\t43.470345823025205%\n"
     ]
    }
   ],
   "source": [
    "signal, sr = librosa.load('./demo/AWS - Viszlát nyár(128 kbps).mp3')\n",
    "predict_genre(signal, sr)"
   ]
  },
  {
   "cell_type": "code",
   "execution_count": 167,
   "metadata": {},
   "outputs": [
    {
     "name": "stdout",
     "output_type": "stream",
     "text": [
      "rock\t37.75902891545634%\n"
     ]
    }
   ],
   "source": [
    "signal, sr = librosa.load('./demo/AC_DC - Highway to Hell (128 kbps).mp3')\n",
    "predict_genre(signal, sr)"
   ]
  },
  {
   "cell_type": "code",
   "execution_count": 166,
   "metadata": {},
   "outputs": [
    {
     "name": "stdout",
     "output_type": "stream",
     "text": [
      "metal\t50.25985015451829%\n"
     ]
    }
   ],
   "source": [
    "signal, sr = librosa.load('./demo/Slipknot - Psychosocia (128 kbps).mp3')\n",
    "predict_genre(signal, sr)"
   ]
  },
  {
   "cell_type": "code",
   "execution_count": 165,
   "metadata": {},
   "outputs": [
    {
     "name": "stdout",
     "output_type": "stream",
     "text": [
      "rock\t34.1692380630275%\n"
     ]
    }
   ],
   "source": [
    "signal, sr = librosa.load('./demo/Rammstein - Du Hast (128 kbps).mp3')\n",
    "predict_genre(signal, sr)"
   ]
  },
  {
   "cell_type": "code",
   "execution_count": 164,
   "metadata": {},
   "outputs": [
    {
     "name": "stdout",
     "output_type": "stream",
     "text": [
      "country\t62.01548155939985%\n"
     ]
    }
   ],
   "source": [
    "signal, sr = librosa.load('./demo/Evanescence - Bring Me To Life  (128 kbps).mp3')\n",
    "predict_genre(signal, sr)"
   ]
  },
  {
   "cell_type": "code",
   "execution_count": 163,
   "metadata": {},
   "outputs": [
    {
     "name": "stdout",
     "output_type": "stream",
     "text": [
      "metal\t57.85377619138058%\n"
     ]
    }
   ],
   "source": [
    "signal, sr = librosa.load('./demo/Road of Resistance (128 kbps).mp3')\n",
    "predict_genre(signal, sr)"
   ]
  },
  {
   "cell_type": "code",
   "execution_count": 197,
   "metadata": {},
   "outputs": [],
   "source": [
    "import os\n",
    "import pytube\n",
    "import warnings\n",
    "warnings.filterwarnings(\"ignore\")"
   ]
  },
  {
   "cell_type": "code",
   "execution_count": 203,
   "metadata": {},
   "outputs": [],
   "source": [
    "def predict_from_youtube_link(link):\n",
    "    yt = pytube.YouTube(link)\n",
    "    video = yt.streams.filter(only_audio=True).first()\n",
    "  \n",
    "    # check for destination to save file\n",
    "    destination = './demo/'\n",
    "    \n",
    "    # download the file\n",
    "    out_file = video.download(output_path=destination)\n",
    "    \n",
    "    # save the file\n",
    "    base, ext = os.path.splitext(out_file)\n",
    "    new_file = base + '.mp3'\n",
    "    os.rename(out_file, new_file)\n",
    "    \n",
    "    # result of success\n",
    "    signal, sr = librosa.load(new_file)\n",
    "    predict_genre(signal, sr)\n",
    "    os.remove(new_file)"
   ]
  },
  {
   "cell_type": "code",
   "execution_count": 206,
   "metadata": {},
   "outputs": [
    {
     "name": "stdout",
     "output_type": "stream",
     "text": [
      "reggae\t96.50425509341144%\n"
     ]
    }
   ],
   "source": [
    "predict_from_youtube_link(\"https://www.youtube.com/watch?v=69RdQFDuYPI\")"
   ]
  },
  {
   "cell_type": "code",
   "execution_count": 207,
   "metadata": {},
   "outputs": [
    {
     "name": "stdout",
     "output_type": "stream",
     "text": [
      "metal\t52.159262904372184%\n"
     ]
    }
   ],
   "source": [
    "predict_from_youtube_link(\"https://www.youtube.com/watch?v=Wn-VdZ4LEKg\")"
   ]
  },
  {
   "cell_type": "code",
   "execution_count": 208,
   "metadata": {},
   "outputs": [
    {
     "name": "stdout",
     "output_type": "stream",
     "text": [
      "hiphop\t40.924811055708844%\n"
     ]
    }
   ],
   "source": [
    "predict_from_youtube_link(\"https://www.youtube.com/watch?v=zL3wWykAKfs\")"
   ]
  },
  {
   "cell_type": "code",
   "execution_count": 209,
   "metadata": {},
   "outputs": [
    {
     "name": "stdout",
     "output_type": "stream",
     "text": [
      "blues\tnan%\n"
     ]
    }
   ],
   "source": [
    "predict_from_youtube_link(\"https://www.youtube.com/watch?v=Zi_XLOBDo_Y\")"
   ]
  },
  {
   "cell_type": "code",
   "execution_count": 211,
   "metadata": {},
   "outputs": [
    {
     "name": "stdout",
     "output_type": "stream",
     "text": [
      "rock\t55.20892737495229%\n"
     ]
    }
   ],
   "source": [
    "predict_from_youtube_link(\"https://www.youtube.com/watch?v=9yRme0C2pmI\")"
   ]
  },
  {
   "cell_type": "code",
   "execution_count": 210,
   "metadata": {},
   "outputs": [
    {
     "name": "stdout",
     "output_type": "stream",
     "text": [
      "rock\t62.130191326199025%\n"
     ]
    }
   ],
   "source": [
    "predict_from_youtube_link(\"https://www.youtube.com/watch?v=aWxBrI0g1kE\")"
   ]
  },
  {
   "cell_type": "code",
   "execution_count": 212,
   "metadata": {},
   "outputs": [
    {
     "name": "stdout",
     "output_type": "stream",
     "text": [
      "hiphop\t58.02503363892433%\n"
     ]
    }
   ],
   "source": [
    "predict_from_youtube_link(\"https://www.youtube.com/watch?v=YVkUvmDQ3HY\")"
   ]
  }
 ],
 "metadata": {
  "kernelspec": {
   "display_name": "ait",
   "language": "python",
   "name": "python3"
  },
  "language_info": {
   "codemirror_mode": {
    "name": "ipython",
    "version": 3
   },
   "file_extension": ".py",
   "mimetype": "text/x-python",
   "name": "python",
   "nbconvert_exporter": "python",
   "pygments_lexer": "ipython3",
   "version": "3.10.10"
  },
  "orig_nbformat": 4
 },
 "nbformat": 4,
 "nbformat_minor": 2
}
