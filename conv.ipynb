{
 "cells": [
  {
   "cell_type": "code",
   "execution_count": 3,
   "metadata": {},
   "outputs": [],
   "source": [
    "import numpy as np\n",
    "from tensorflow.keras.utils import to_categorical\n",
    "from tensorflow.keras.layers import Dense, Dropout, LSTM\n",
    "from tensorflow.keras.layers import Conv2D, AveragePooling2D, GlobalAveragePooling2D, Flatten, Dense, Dropout, BatchNormalization, Input\n",
    "from tensorflow.keras.models import Sequential\n",
    "import tensorflow as tf\n",
    "import utils.data\n",
    "from utils.layers import Encoder\n",
    "from sklearn.metrics import confusion_matrix, classification_report\n",
    "import seaborn as sns"
   ]
  },
  {
   "cell_type": "code",
   "execution_count": 16,
   "metadata": {},
   "outputs": [],
   "source": [
    "data = utils.data.get_dataset(mode='mel')"
   ]
  },
  {
   "cell_type": "code",
   "execution_count": 9,
   "metadata": {},
   "outputs": [],
   "source": [
    "data_length = len(data[\"mfcc\"])\n",
    "train_ratio = 0.7\n",
    "valid_ratio = 0.2\n",
    "test_ratio = 0.1\n",
    "\n",
    "X_train = []\n",
    "Y_train = []\n",
    "X_valid = []\n",
    "Y_valid = []\n",
    "X_test = []\n",
    "Y_test = []\n",
    "\n",
    "for i in range(len(data[\"mapping\"])):\n",
    "    data_length = data[\"labels\"].count(i)\n",
    "    start = data[\"labels\"].index(i)\n",
    "    train_size = int(train_ratio*data_length)\n",
    "    valid_size = int(valid_ratio*data_length)\n",
    "    test_size = int(test_ratio*data_length)\n",
    "\n",
    "    for element in data[\"mfcc\"][start:start+train_size]:\n",
    "        X_train.append(element)\n",
    "    for element in data[\"labels\"][start:start+train_size]:\n",
    "        Y_train.append(element)\n",
    "    for element in data[\"mfcc\"][start+train_size:start+train_size+valid_size]:\n",
    "        X_valid.append(element)\n",
    "    for element in data[\"labels\"][start+train_size:start+train_size+valid_size]:\n",
    "        Y_valid.append(element)\n",
    "    for element in data[\"mfcc\"][start+train_size+valid_size:start+train_size+valid_size+test_size]:\n",
    "        X_test.append(element)\n",
    "    for element in data[\"labels\"][start+train_size+valid_size:start+train_size+valid_size+test_size]:\n",
    "        Y_test.append(element)"
   ]
  },
  {
   "cell_type": "code",
   "execution_count": 10,
   "metadata": {},
   "outputs": [],
   "source": [
    "X_train=np.array(X_train)\n",
    "Y_train=np.array(Y_train)\n",
    "X_valid=np.array(X_valid)\n",
    "Y_valid=np.array(Y_valid)\n",
    "X_test=np.array(X_test)\n",
    "Y_test=np.array(Y_test)"
   ]
  },
  {
   "cell_type": "code",
   "execution_count": 11,
   "metadata": {},
   "outputs": [
    {
     "data": {
      "text/plain": [
       "(6989, 130, 128)"
      ]
     },
     "execution_count": 11,
     "metadata": {},
     "output_type": "execute_result"
    }
   ],
   "source": [
    "X_train.shape"
   ]
  },
  {
   "cell_type": "code",
   "execution_count": 12,
   "metadata": {},
   "outputs": [],
   "source": [
    "X_train = tf.expand_dims(X_train, axis=-1)\n",
    "X_valid = tf.expand_dims(X_valid, axis=-1)\n",
    "X_test = tf.expand_dims(X_test, axis=-1)"
   ]
  },
  {
   "cell_type": "code",
   "execution_count": 13,
   "metadata": {},
   "outputs": [],
   "source": [
    "Y_train = to_categorical(Y_train)\n",
    "Y_valid = to_categorical(Y_valid)\n",
    "Y_test  = to_categorical(Y_test)"
   ]
  },
  {
   "cell_type": "code",
   "execution_count": 8,
   "metadata": {},
   "outputs": [],
   "source": [
    "# Using the functional API to build a model\n",
    "input = Input(shape=(X_train.shape[1:]))\n",
    "conv1 = Conv2D(filters=256, kernel_size=3, activation='relu', padding='valid', kernel_initializer='glorot_normal')(input)\n",
    "conv2 = Conv2D(filters=256, kernel_size=3, activation='relu', padding='valid', kernel_initializer='glorot_normal')(conv1)\n",
    "# Pooling layer to reduce the dimensionality of the output (downsampling)\n",
    "ap = AveragePooling2D(pool_size=3, strides=2, padding='same')(conv2)\n",
    "# Batch normalization to normalize the activations of the previous layer at each batch\n",
    "ap = BatchNormalization()(ap)\n",
    "conv3 = Conv2D(filters=256, kernel_size=3, activation='relu', padding='valid', kernel_initializer='glorot_normal')(ap)\n",
    "ap = AveragePooling2D(pool_size=3, strides=2, padding='same')(conv3)\n",
    "ap = BatchNormalization()(ap)\n",
    "conv4 = Conv2D(filters=128, kernel_size=4, activation='relu', padding='valid', kernel_initializer='glorot_normal')(ap)\n",
    "# Global average pooling to reduce the dimensionality of the output (no parameters to learn)\n",
    "ap = GlobalAveragePooling2D()(conv4)\n",
    "dense1 = Dense(256, activation='relu')(ap)\n",
    "dense1 = Dropout(0.1)(dense1)\n",
    "dense2 = Dense(128, activation='relu')(dense1)\n",
    "# Output layer with softmax activation\n",
    "output = Dense(len(data[\"mapping\"]), activation='softmax')(dense2)\n",
    "conv_model = tf.keras.Model(inputs=input, outputs=output)\n"
   ]
  },
  {
   "cell_type": "code",
   "execution_count": 9,
   "metadata": {},
   "outputs": [
    {
     "name": "stdout",
     "output_type": "stream",
     "text": [
      "Model: \"model\"\n",
      "_________________________________________________________________\n",
      " Layer (type)                Output Shape              Param #   \n",
      "=================================================================\n",
      " input_1 (InputLayer)        [(None, 130, 128, 1)]     0         \n",
      "                                                                 \n",
      " conv2d (Conv2D)             (None, 128, 126, 256)     2560      \n",
      "                                                                 \n",
      " conv2d_1 (Conv2D)           (None, 126, 124, 256)     590080    \n",
      "                                                                 \n",
      " average_pooling2d (AverageP  (None, 63, 62, 256)      0         \n",
      " ooling2D)                                                       \n",
      "                                                                 \n",
      " batch_normalization (BatchN  (None, 63, 62, 256)      1024      \n",
      " ormalization)                                                   \n",
      "                                                                 \n",
      " conv2d_2 (Conv2D)           (None, 61, 60, 256)       590080    \n",
      "                                                                 \n",
      " average_pooling2d_1 (Averag  (None, 31, 30, 256)      0         \n",
      " ePooling2D)                                                     \n",
      "                                                                 \n",
      " batch_normalization_1 (Batc  (None, 31, 30, 256)      1024      \n",
      " hNormalization)                                                 \n",
      "                                                                 \n",
      " conv2d_3 (Conv2D)           (None, 28, 27, 128)       524416    \n",
      "                                                                 \n",
      " global_average_pooling2d (G  (None, 128)              0         \n",
      " lobalAveragePooling2D)                                          \n",
      "                                                                 \n",
      " dense (Dense)               (None, 256)               33024     \n",
      "                                                                 \n",
      " dropout (Dropout)           (None, 256)               0         \n",
      "                                                                 \n",
      " dense_1 (Dense)             (None, 128)               32896     \n",
      "                                                                 \n",
      " dense_2 (Dense)             (None, 10)                1290      \n",
      "                                                                 \n",
      "=================================================================\n",
      "Total params: 1,776,394\n",
      "Trainable params: 1,775,370\n",
      "Non-trainable params: 1,024\n",
      "_________________________________________________________________\n"
     ]
    }
   ],
   "source": [
    "conv_model.summary()"
   ]
  },
  {
   "cell_type": "code",
   "execution_count": 10,
   "metadata": {},
   "outputs": [],
   "source": [
    "es = tf.keras.callbacks.EarlyStopping(monitor='val_accuracy', mode='auto', verbose=1, patience=5, restore_best_weights=True)"
   ]
  },
  {
   "cell_type": "code",
   "execution_count": 11,
   "metadata": {},
   "outputs": [],
   "source": [
    "conv_model.compile(optimizer = 'adam', loss = 'categorical_crossentropy', metrics = ['accuracy'])"
   ]
  },
  {
   "cell_type": "code",
   "execution_count": null,
   "metadata": {},
   "outputs": [],
   "source": [
    "conv_model.fit(X_train, Y_train, epochs=50, batch_size=64, validation_data=(X_valid, Y_valid), verbose=1, callbacks=es)"
   ]
  },
  {
   "cell_type": "code",
   "execution_count": 15,
   "metadata": {},
   "outputs": [
    {
     "name": "stdout",
     "output_type": "stream",
     "text": [
      "32/32 [==============================] - 2s 53ms/step\n",
      "              precision    recall  f1-score   support\n",
      "\n",
      "           0       0.58      0.38      0.46       100\n",
      "           1       0.86      0.78      0.81        99\n",
      "           2       0.56      0.75      0.64        99\n",
      "           3       0.66      0.96      0.78        99\n",
      "           4       0.84      0.91      0.87        99\n",
      "           5       0.57      0.71      0.63        99\n",
      "           6       0.82      0.60      0.69       100\n",
      "           7       0.99      0.90      0.94       100\n",
      "           8       0.74      0.78      0.76       100\n",
      "           9       0.60      0.39      0.47       100\n",
      "\n",
      "    accuracy                           0.71       995\n",
      "   macro avg       0.72      0.72      0.71       995\n",
      "weighted avg       0.72      0.71      0.71       995\n",
      "\n"
     ]
    },
    {
     "data": {
      "text/plain": [
       "[Text(0, 0.5, 'blues'),\n",
       " Text(0, 1.5, 'classical'),\n",
       " Text(0, 2.5, 'country'),\n",
       " Text(0, 3.5, 'disco'),\n",
       " Text(0, 4.5, 'hiphop'),\n",
       " Text(0, 5.5, 'jazz'),\n",
       " Text(0, 6.5, 'metal'),\n",
       " Text(0, 7.5, 'pop'),\n",
       " Text(0, 8.5, 'reggae'),\n",
       " Text(0, 9.5, 'rock')]"
      ]
     },
     "execution_count": 15,
     "metadata": {},
     "output_type": "execute_result"
    },
    {
     "data": {
      "image/png": "[encoded data removed]",
      "text/plain": [
       "<Figure size 640x480 with 2 Axes>"
      ]
     },
     "metadata": {},
     "output_type": "display_data"
    }
   ],
   "source": [
    "preds = conv_model.predict(X_test)\n",
    "print(classification_report(np.argmax(Y_test,1),np.argmax(preds,1)))\n",
    "conf=confusion_matrix(np.argmax(Y_test,1),np.argmax(preds,1))\n",
    "dia= sns.heatmap(conf, annot=True, fmt='d', vmax=100)\n",
    "dia.set_xticklabels(data[\"mapping\"], rotation=90)\n",
    "dia.set_yticklabels(data[\"mapping\"], rotation=0)"
   ]
  },
  {
   "cell_type": "code",
   "execution_count": null,
   "metadata": {},
   "outputs": [],
   "source": [
    "conv_model.save('./models/conv.h5')"
   ]
  }
 ],
 "metadata": {
  "kernelspec": {
   "display_name": "ait",
   "language": "python",
   "name": "python3"
  },
  "language_info": {
   "codemirror_mode": {
    "name": "ipython",
    "version": 3
   },
   "file_extension": ".py",
   "mimetype": "text/x-python",
   "name": "python",
   "nbconvert_exporter": "python",
   "pygments_lexer": "ipython3",
   "version": "3.10.10"
  },
  "orig_nbformat": 4
 },
 "nbformat": 4,
 "nbformat_minor": 2
}
