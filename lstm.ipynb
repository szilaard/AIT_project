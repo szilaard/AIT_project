{
 "cells": [
  {
   "cell_type": "code",
   "execution_count": 1,
   "metadata": {},
   "outputs": [],
   "source": [
    "import numpy as np\n",
    "from tensorflow.keras.utils import to_categorical\n",
    "from tensorflow.keras.layers import Dense, Dropout, LSTM, Bidirectional\n",
    "from tensorflow.keras.models import Sequential\n",
    "import tensorflow as tf\n",
    "import utils.data\n",
    "from utils.layers import Encoder\n",
    "from sklearn.metrics import confusion_matrix, classification_report\n",
    "import seaborn as sns"
   ]
  },
  {
   "cell_type": "code",
   "execution_count": 2,
   "metadata": {},
   "outputs": [],
   "source": [
    "data = utils.data.get_dataset(mode='mfcc')"
   ]
  },
  {
   "cell_type": "code",
   "execution_count": 3,
   "metadata": {},
   "outputs": [],
   "source": [
    "data_length = len(data[\"mfcc\"])\n",
    "train_ratio = 0.7\n",
    "valid_ratio = 0.2\n",
    "test_ratio = 0.1\n",
    "\n",
    "X_train = []\n",
    "Y_train = []\n",
    "X_valid = []\n",
    "Y_valid = []\n",
    "X_test = []\n",
    "Y_test = []\n",
    "\n",
    "for i in range(len(data[\"mapping\"])):\n",
    "    data_length = data[\"labels\"].count(i)\n",
    "    start = data[\"labels\"].index(i)\n",
    "    train_size = int(train_ratio*data_length)\n",
    "    valid_size = int(valid_ratio*data_length)\n",
    "    test_size = int(test_ratio*data_length)\n",
    "\n",
    "    for element in data[\"mfcc\"][start:start+train_size]:\n",
    "        X_train.append(element)\n",
    "    for element in data[\"labels\"][start:start+train_size]:\n",
    "        Y_train.append(element)\n",
    "    for element in data[\"mfcc\"][start+train_size:start+train_size+valid_size]:\n",
    "        X_valid.append(element)\n",
    "    for element in data[\"labels\"][start+train_size:start+train_size+valid_size]:\n",
    "        Y_valid.append(element)\n",
    "    for element in data[\"mfcc\"][start+train_size+valid_size:start+train_size+valid_size+test_size]:\n",
    "        X_test.append(element)\n",
    "    for element in data[\"labels\"][start+train_size+valid_size:start+train_size+valid_size+test_size]:\n",
    "        Y_test.append(element)"
   ]
  },
  {
   "cell_type": "code",
   "execution_count": 4,
   "metadata": {},
   "outputs": [],
   "source": [
    "X_train=np.array(X_train)\n",
    "Y_train=np.array(Y_train)\n",
    "X_valid=np.array(X_valid)\n",
    "Y_valid=np.array(Y_valid)\n",
    "X_test=np.array(X_test)\n",
    "Y_test=np.array(Y_test)"
   ]
  },
  {
   "cell_type": "code",
   "execution_count": 5,
   "metadata": {},
   "outputs": [],
   "source": [
    "mean = np.mean(X_train, axis=0)\n",
    "std  = np.std(X_train, axis=0, dtype=np.float32)"
   ]
  },
  {
   "cell_type": "code",
   "execution_count": 6,
   "metadata": {},
   "outputs": [],
   "source": [
    "X_train = (X_train - mean) / std\n",
    "X_valid = (X_valid - mean) / std\n",
    "X_test = (X_test - mean) / std"
   ]
  },
  {
   "cell_type": "code",
   "execution_count": 7,
   "metadata": {},
   "outputs": [],
   "source": [
    "Y_train = to_categorical(Y_train)\n",
    "Y_valid = to_categorical(Y_valid)\n",
    "Y_test  = to_categorical(Y_test)"
   ]
  },
  {
   "cell_type": "code",
   "execution_count": 8,
   "metadata": {},
   "outputs": [],
   "source": [
    "lstm_model = Sequential()\n",
    "lstm_model.add(Bidirectional(LSTM(128, input_shape=(X_train.shape[-2], X_train.shape[-1]),return_sequences=True))),\n",
    "lstm_model.add(Bidirectional(LSTM(128, input_shape=(X_train.shape[-2], X_train.shape[-1])))),\n",
    "#lstm_model.add(LSTM(64, input_shape=(X_train.shape[-2], X_train.shape[-1]),return_sequences=True))\n",
    "#lstm_model.add(LSTM(128, input_shape=(X_train.shape[-2], X_train.shape[-1])))\n",
    "lstm_model.add(Dense(4*len(data[\"mapping\"]), activation='relu'))\n",
    "lstm_model.add(Dropout(0.2))\n",
    "lstm_model.add(Dense(len(data[\"mapping\"]), activation='softmax'))"
   ]
  },
  {
   "cell_type": "code",
   "execution_count": 9,
   "metadata": {},
   "outputs": [],
   "source": [
    "lstm_model.build(input_shape=(X_train.shape))"
   ]
  },
  {
   "cell_type": "code",
   "execution_count": 10,
   "metadata": {},
   "outputs": [
    {
     "name": "stdout",
     "output_type": "stream",
     "text": [
      "Model: \"sequential\"\n",
      "_________________________________________________________________\n",
      " Layer (type)                Output Shape              Param #   \n",
      "=================================================================\n",
      " bidirectional (Bidirectiona  (6989, 130, 256)         145408    \n",
      " l)                                                              \n",
      "                                                                 \n",
      " bidirectional_1 (Bidirectio  (6989, 256)              394240    \n",
      " nal)                                                            \n",
      "                                                                 \n",
      " dense (Dense)               (6989, 40)                10280     \n",
      "                                                                 \n",
      " dropout (Dropout)           (6989, 40)                0         \n",
      "                                                                 \n",
      " dense_1 (Dense)             (6989, 10)                410       \n",
      "                                                                 \n",
      "=================================================================\n",
      "Total params: 550,338\n",
      "Trainable params: 550,338\n",
      "Non-trainable params: 0\n",
      "_________________________________________________________________\n"
     ]
    }
   ],
   "source": [
    "lstm_model.summary()"
   ]
  },
  {
   "cell_type": "code",
   "execution_count": 11,
   "metadata": {},
   "outputs": [],
   "source": [
    "lstm_model.compile(loss='categorical_crossentropy', optimizer='adam', metrics=[\"accuracy\"])"
   ]
  },
  {
   "cell_type": "code",
   "execution_count": 12,
   "metadata": {},
   "outputs": [],
   "source": [
    "es = tf.keras.callbacks.EarlyStopping(monitor='val_accuracy', mode='auto', verbose=1, patience=5, restore_best_weights=True)"
   ]
  },
  {
   "cell_type": "code",
   "execution_count": 13,
   "metadata": {},
   "outputs": [
    {
     "name": "stdout",
     "output_type": "stream",
     "text": [
      "Epoch 1/40\n",
      "219/219 [==============================] - 14s 35ms/step - loss: 1.4524 - accuracy: 0.4876 - val_loss: 1.8257 - val_accuracy: 0.3771\n",
      "Epoch 2/40\n",
      "219/219 [==============================] - 6s 29ms/step - loss: 1.1451 - accuracy: 0.6034 - val_loss: 1.8709 - val_accuracy: 0.3581\n",
      "Epoch 3/40\n",
      "219/219 [==============================] - 6s 29ms/step - loss: 0.9931 - accuracy: 0.6573 - val_loss: 1.7984 - val_accuracy: 0.4107\n",
      "Epoch 4/40\n",
      "219/219 [==============================] - 6s 28ms/step - loss: 0.9503 - accuracy: 0.6663 - val_loss: 1.8346 - val_accuracy: 0.3972\n",
      "Epoch 5/40\n",
      "219/219 [==============================] - 6s 28ms/step - loss: 0.8726 - accuracy: 0.6992 - val_loss: 2.0673 - val_accuracy: 0.3927\n",
      "Epoch 6/40\n",
      "219/219 [==============================] - 6s 28ms/step - loss: 0.7816 - accuracy: 0.7300 - val_loss: 2.0533 - val_accuracy: 0.4012\n",
      "Epoch 7/40\n",
      "219/219 [==============================] - 6s 28ms/step - loss: 0.7031 - accuracy: 0.7505 - val_loss: 1.9708 - val_accuracy: 0.4218\n",
      "Epoch 8/40\n",
      "219/219 [==============================] - 6s 29ms/step - loss: 0.6974 - accuracy: 0.7545 - val_loss: 1.9788 - val_accuracy: 0.4077\n",
      "Epoch 9/40\n",
      "219/219 [==============================] - 6s 29ms/step - loss: 0.6627 - accuracy: 0.7699 - val_loss: 1.8826 - val_accuracy: 0.4413\n",
      "Epoch 10/40\n",
      "219/219 [==============================] - 6s 28ms/step - loss: 0.6009 - accuracy: 0.7918 - val_loss: 2.0180 - val_accuracy: 0.4554\n",
      "Epoch 11/40\n",
      "219/219 [==============================] - 6s 28ms/step - loss: 0.5437 - accuracy: 0.8133 - val_loss: 2.4490 - val_accuracy: 0.3897\n",
      "Epoch 12/40\n",
      "219/219 [==============================] - 6s 29ms/step - loss: 0.4912 - accuracy: 0.8342 - val_loss: 2.3838 - val_accuracy: 0.4313\n",
      "Epoch 13/40\n",
      "219/219 [==============================] - 6s 29ms/step - loss: 0.4392 - accuracy: 0.8526 - val_loss: 2.3133 - val_accuracy: 0.4509\n",
      "Epoch 14/40\n",
      "219/219 [==============================] - 6s 29ms/step - loss: 0.3711 - accuracy: 0.8758 - val_loss: 2.6287 - val_accuracy: 0.4423\n",
      "Epoch 15/40\n",
      "217/219 [============================>.] - ETA: 0s - loss: 0.3709 - accuracy: 0.8731Restoring model weights from the end of the best epoch: 10.\n",
      "219/219 [==============================] - 6s 29ms/step - loss: 0.3714 - accuracy: 0.8729 - val_loss: 2.4521 - val_accuracy: 0.4343\n",
      "Epoch 15: early stopping\n"
     ]
    }
   ],
   "source": [
    "lstm_history = lstm_model.fit(X_train, Y_train,\n",
    "              batch_size=32,\n",
    "              epochs=40,\n",
    "              validation_data=(X_valid, Y_valid),\n",
    "              verbose=1, \n",
    "              callbacks=es)"
   ]
  },
  {
   "cell_type": "code",
   "execution_count": 14,
   "metadata": {},
   "outputs": [
    {
     "name": "stdout",
     "output_type": "stream",
     "text": [
      "32/32 [==============================] - 1s 10ms/step\n",
      "              precision    recall  f1-score   support\n",
      "\n",
      "           0       0.15      0.11      0.13       100\n",
      "           1       0.88      0.74      0.80        99\n",
      "           2       0.20      0.32      0.25        99\n",
      "           3       0.51      0.42      0.46        99\n",
      "           4       0.16      0.15      0.16        99\n",
      "           5       0.45      0.40      0.43        99\n",
      "           6       0.49      0.71      0.58       100\n",
      "           7       0.91      0.89      0.90       100\n",
      "           8       0.36      0.19      0.25       100\n",
      "           9       0.37      0.45      0.41       100\n",
      "\n",
      "    accuracy                           0.44       995\n",
      "   macro avg       0.45      0.44      0.44       995\n",
      "weighted avg       0.45      0.44      0.44       995\n",
      "\n"
     ]
    },
    {
     "data": {
      "text/plain": [
       "<Axes: >"
      ]
     },
     "execution_count": 14,
     "metadata": {},
     "output_type": "execute_result"
    },
    {
     "data": {
      "image/png": "[encoded data removed]",
      "text/plain": [
       "<Figure size 640x480 with 2 Axes>"
      ]
     },
     "metadata": {},
     "output_type": "display_data"
    }
   ],
   "source": [
    "lstm_preds = lstm_model.predict(X_test)\n",
    "print(classification_report(np.argmax(Y_test,1),np.argmax(lstm_preds,1)))\n",
    "conf=confusion_matrix(np.argmax(Y_test,1),np.argmax(lstm_preds,1))\n",
    "sns.heatmap(conf, annot=True, fmt='d', vmax=100)"
   ]
  },
  {
   "cell_type": "code",
   "execution_count": 15,
   "metadata": {},
   "outputs": [],
   "source": [
    "lstm_model.save(\"models/lstm.h5\")"
   ]
  }
 ],
 "metadata": {
  "kernelspec": {
   "display_name": "ait",
   "language": "python",
   "name": "python3"
  },
  "language_info": {
   "codemirror_mode": {
    "name": "ipython",
    "version": 3
   },
   "file_extension": ".py",
   "mimetype": "text/x-python",
   "name": "python",
   "nbconvert_exporter": "python",
   "pygments_lexer": "ipython3",
   "version": "3.10.10"
  },
  "orig_nbformat": 4
 },
 "nbformat": 4,
 "nbformat_minor": 2
}
