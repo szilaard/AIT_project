{
 "cells": [
  {
   "cell_type": "code",
   "execution_count": 1,
   "metadata": {},
   "outputs": [],
   "source": [
    "import numpy as np\n",
    "from tensorflow.keras.utils import to_categorical\n",
    "from tensorflow.keras.layers import Dense, Dropout, LSTM\n",
    "from tensorflow.keras.models import Sequential\n",
    "import tensorflow as tf\n",
    "import utils.data\n",
    "from utils.layers import Encoder\n",
    "from sklearn.metrics import confusion_matrix, classification_report\n",
    "import seaborn as sns"
   ]
  },
  {
   "cell_type": "code",
   "execution_count": 2,
   "metadata": {},
   "outputs": [],
   "source": [
    "data = utils.data.get_dataset(mode='mfcc')"
   ]
  },
  {
   "cell_type": "code",
   "execution_count": 3,
   "metadata": {},
   "outputs": [],
   "source": [
    "data_length = len(data[\"mfcc\"])\n",
    "train_ratio = 0.7\n",
    "valid_ratio = 0.2\n",
    "test_ratio = 0.1\n",
    "\n",
    "X_train = []\n",
    "Y_train = []\n",
    "X_valid = []\n",
    "Y_valid = []\n",
    "X_test = []\n",
    "Y_test = []\n",
    "\n",
    "for i in range(len(data[\"mapping\"])):\n",
    "    data_length = data[\"labels\"].count(i)\n",
    "    start = data[\"labels\"].index(i)\n",
    "    train_size = int(train_ratio*data_length)\n",
    "    valid_size = int(valid_ratio*data_length)\n",
    "    test_size = int(test_ratio*data_length)\n",
    "\n",
    "    for element in data[\"mfcc\"][start:start+train_size]:\n",
    "        X_train.append(element)\n",
    "    for element in data[\"labels\"][start:start+train_size]:\n",
    "        Y_train.append(element)\n",
    "    for element in data[\"mfcc\"][start+train_size:start+train_size+valid_size]:\n",
    "        X_valid.append(element)\n",
    "    for element in data[\"labels\"][start+train_size:start+train_size+valid_size]:\n",
    "        Y_valid.append(element)\n",
    "    for element in data[\"mfcc\"][start+train_size+valid_size:start+train_size+valid_size+test_size]:\n",
    "        X_test.append(element)\n",
    "    for element in data[\"labels\"][start+train_size+valid_size:start+train_size+valid_size+test_size]:\n",
    "        Y_test.append(element)"
   ]
  },
  {
   "cell_type": "code",
   "execution_count": 4,
   "metadata": {},
   "outputs": [],
   "source": [
    "X_train=np.array(X_train)\n",
    "Y_train=np.array(Y_train)\n",
    "X_valid=np.array(X_valid)\n",
    "Y_valid=np.array(Y_valid)\n",
    "X_test=np.array(X_test)\n",
    "Y_test=np.array(Y_test)"
   ]
  },
  {
   "cell_type": "code",
   "execution_count": 5,
   "metadata": {},
   "outputs": [],
   "source": [
    "Y_train = to_categorical(Y_train)\n",
    "Y_valid = to_categorical(Y_valid)\n",
    "Y_test  = to_categorical(Y_test)"
   ]
  },
  {
   "cell_type": "code",
   "execution_count": 6,
   "metadata": {},
   "outputs": [],
   "source": [
    "lstm_model = Sequential()\n",
    "lstm_model.add(LSTM(50, input_shape=(X_train.shape[-2], X_train.shape[-1]),return_sequences=True))\n",
    "lstm_model.add(LSTM(50, input_shape=(X_train.shape[-2], X_train.shape[-1]),return_sequences=True))\n",
    "lstm_model.add(LSTM(50, input_shape=(X_train.shape[-2], X_train.shape[-1])))\n",
    "lstm_model.add(Dropout(0.2))\n",
    "lstm_model.add(Dense(len(data[\"mapping\"]), activation='softmax'))"
   ]
  },
  {
   "cell_type": "code",
   "execution_count": 7,
   "metadata": {},
   "outputs": [
    {
     "name": "stdout",
     "output_type": "stream",
     "text": [
      "Model: \"sequential\"\n",
      "_________________________________________________________________\n",
      " Layer (type)                Output Shape              Param #   \n",
      "=================================================================\n",
      " lstm (LSTM)                 (None, 130, 50)           12800     \n",
      "                                                                 \n",
      " lstm_1 (LSTM)               (None, 130, 50)           20200     \n",
      "                                                                 \n",
      " lstm_2 (LSTM)               (None, 50)                20200     \n",
      "                                                                 \n",
      " dropout (Dropout)           (None, 50)                0         \n",
      "                                                                 \n",
      " dense (Dense)               (None, 10)                510       \n",
      "                                                                 \n",
      "=================================================================\n",
      "Total params: 53,710\n",
      "Trainable params: 53,710\n",
      "Non-trainable params: 0\n",
      "_________________________________________________________________\n"
     ]
    }
   ],
   "source": [
    "lstm_model.summary()"
   ]
  },
  {
   "cell_type": "code",
   "execution_count": 8,
   "metadata": {},
   "outputs": [],
   "source": [
    "lstm_model.compile(loss='categorical_crossentropy', optimizer='adam', metrics=[\"accuracy\"])"
   ]
  },
  {
   "cell_type": "code",
   "execution_count": 9,
   "metadata": {},
   "outputs": [],
   "source": [
    "es = tf.keras.callbacks.EarlyStopping(monitor='val_accuracy', mode='auto', verbose=1, patience=5, restore_best_weights=True)"
   ]
  },
  {
   "cell_type": "code",
   "execution_count": 10,
   "metadata": {},
   "outputs": [
    {
     "name": "stdout",
     "output_type": "stream",
     "text": [
      "Epoch 1/40\n",
      "219/219 [==============================] - 10s 24ms/step - loss: 1.6533 - accuracy: 0.4202 - val_loss: 1.9407 - val_accuracy: 0.3385\n",
      "Epoch 2/40\n",
      "219/219 [==============================] - 5s 21ms/step - loss: 1.2947 - accuracy: 0.5650 - val_loss: 2.0562 - val_accuracy: 0.3034\n",
      "Epoch 3/40\n",
      "219/219 [==============================] - 5s 21ms/step - loss: 1.1886 - accuracy: 0.5974 - val_loss: 1.8224 - val_accuracy: 0.3485\n",
      "Epoch 4/40\n",
      "219/219 [==============================] - 5s 22ms/step - loss: 1.0961 - accuracy: 0.6293 - val_loss: 2.0268 - val_accuracy: 0.3516\n",
      "Epoch 5/40\n",
      "219/219 [==============================] - 5s 21ms/step - loss: 1.0409 - accuracy: 0.6492 - val_loss: 2.0289 - val_accuracy: 0.3170\n",
      "Epoch 6/40\n",
      "219/219 [==============================] - 5s 21ms/step - loss: 0.9877 - accuracy: 0.6668 - val_loss: 2.0336 - val_accuracy: 0.3751\n",
      "Epoch 7/40\n",
      "219/219 [==============================] - 5s 21ms/step - loss: 0.9271 - accuracy: 0.6858 - val_loss: 2.0524 - val_accuracy: 0.3601\n",
      "Epoch 8/40\n",
      "219/219 [==============================] - 5s 22ms/step - loss: 0.9585 - accuracy: 0.6822 - val_loss: 1.9414 - val_accuracy: 0.3766\n",
      "Epoch 9/40\n",
      "219/219 [==============================] - 5s 22ms/step - loss: 0.8313 - accuracy: 0.7239 - val_loss: 2.1033 - val_accuracy: 0.3506\n",
      "Epoch 10/40\n",
      "219/219 [==============================] - 5s 21ms/step - loss: 0.7998 - accuracy: 0.7357 - val_loss: 2.1527 - val_accuracy: 0.3781\n",
      "Epoch 11/40\n",
      "219/219 [==============================] - 5s 21ms/step - loss: 0.7610 - accuracy: 0.7430 - val_loss: 2.1684 - val_accuracy: 0.3475\n",
      "Epoch 12/40\n",
      "219/219 [==============================] - 5s 21ms/step - loss: 0.8418 - accuracy: 0.7190 - val_loss: 1.9628 - val_accuracy: 0.3796\n",
      "Epoch 13/40\n",
      "219/219 [==============================] - 5s 21ms/step - loss: 0.8209 - accuracy: 0.7256 - val_loss: 2.1632 - val_accuracy: 0.3666\n",
      "Epoch 14/40\n",
      "219/219 [==============================] - 5s 21ms/step - loss: 0.6955 - accuracy: 0.7695 - val_loss: 2.1923 - val_accuracy: 0.3571\n",
      "Epoch 15/40\n",
      "219/219 [==============================] - 5s 21ms/step - loss: 0.6433 - accuracy: 0.7871 - val_loss: 2.1050 - val_accuracy: 0.4047\n",
      "Epoch 16/40\n",
      "219/219 [==============================] - 5s 22ms/step - loss: 0.6371 - accuracy: 0.7895 - val_loss: 2.1634 - val_accuracy: 0.3907\n",
      "Epoch 17/40\n",
      "219/219 [==============================] - 5s 21ms/step - loss: 0.5730 - accuracy: 0.8094 - val_loss: 2.2570 - val_accuracy: 0.3912\n",
      "Epoch 18/40\n",
      "219/219 [==============================] - 5s 21ms/step - loss: 0.5481 - accuracy: 0.8226 - val_loss: 2.2460 - val_accuracy: 0.3972\n",
      "Epoch 19/40\n",
      "219/219 [==============================] - 5s 21ms/step - loss: 0.5209 - accuracy: 0.8306 - val_loss: 2.2961 - val_accuracy: 0.4137\n",
      "Epoch 20/40\n",
      "219/219 [==============================] - 5s 21ms/step - loss: 0.5385 - accuracy: 0.8262 - val_loss: 2.2177 - val_accuracy: 0.4183\n",
      "Epoch 21/40\n",
      "219/219 [==============================] - 5s 21ms/step - loss: 0.4925 - accuracy: 0.8379 - val_loss: 2.4795 - val_accuracy: 0.3852\n",
      "Epoch 22/40\n",
      "219/219 [==============================] - 5s 22ms/step - loss: 0.4876 - accuracy: 0.8406 - val_loss: 2.3342 - val_accuracy: 0.4173\n",
      "Epoch 23/40\n",
      "219/219 [==============================] - 5s 22ms/step - loss: 0.4542 - accuracy: 0.8498 - val_loss: 2.4918 - val_accuracy: 0.4032\n",
      "Epoch 24/40\n",
      "219/219 [==============================] - 5s 22ms/step - loss: 0.4257 - accuracy: 0.8565 - val_loss: 2.2996 - val_accuracy: 0.4313\n",
      "Epoch 25/40\n",
      "219/219 [==============================] - 5s 21ms/step - loss: 0.4329 - accuracy: 0.8576 - val_loss: 2.5073 - val_accuracy: 0.4037\n",
      "Epoch 26/40\n",
      "219/219 [==============================] - 5s 22ms/step - loss: 0.4089 - accuracy: 0.8697 - val_loss: 2.4917 - val_accuracy: 0.4263\n",
      "Epoch 27/40\n",
      "219/219 [==============================] - 5s 22ms/step - loss: 0.4160 - accuracy: 0.8632 - val_loss: 2.5409 - val_accuracy: 0.3902\n",
      "Epoch 28/40\n",
      "219/219 [==============================] - 5s 22ms/step - loss: 0.3856 - accuracy: 0.8748 - val_loss: 2.6010 - val_accuracy: 0.4142\n",
      "Epoch 29/40\n",
      "218/219 [============================>.] - ETA: 0s - loss: 0.3600 - accuracy: 0.8800Restoring model weights from the end of the best epoch: 24.\n",
      "219/219 [==============================] - 5s 21ms/step - loss: 0.3612 - accuracy: 0.8800 - val_loss: 2.9148 - val_accuracy: 0.3556\n",
      "Epoch 29: early stopping\n"
     ]
    }
   ],
   "source": [
    "lstm_history = lstm_model.fit(X_train, Y_train,\n",
    "              batch_size=32,\n",
    "              epochs=40,\n",
    "              validation_data=(X_valid, Y_valid),\n",
    "              verbose=1, \n",
    "              callbacks=es)"
   ]
  },
  {
   "cell_type": "code",
   "execution_count": 12,
   "metadata": {},
   "outputs": [
    {
     "name": "stdout",
     "output_type": "stream",
     "text": [
      "32/32 [==============================] - 1s 32ms/step\n",
      "              precision    recall  f1-score   support\n",
      "\n",
      "           0       0.31      0.16      0.21       100\n",
      "           1       0.80      0.74      0.77        99\n",
      "           2       0.14      0.13      0.13        99\n",
      "           3       0.56      0.58      0.57        99\n",
      "           4       0.09      0.02      0.03        99\n",
      "           5       0.42      0.44      0.43        99\n",
      "           6       0.42      0.46      0.44       100\n",
      "           7       0.92      0.93      0.93       100\n",
      "           8       0.25      0.32      0.28       100\n",
      "           9       0.19      0.36      0.25       100\n",
      "\n",
      "    accuracy                           0.41       995\n",
      "   macro avg       0.41      0.41      0.40       995\n",
      "weighted avg       0.41      0.41      0.40       995\n",
      "\n"
     ]
    },
    {
     "data": {
      "text/plain": [
       "<Axes: >"
      ]
     },
     "execution_count": 12,
     "metadata": {},
     "output_type": "execute_result"
    },
    {
     "data": {
      "image/png": "[encoded data removed]",
      "text/plain": [
       "<Figure size 640x480 with 2 Axes>"
      ]
     },
     "metadata": {},
     "output_type": "display_data"
    }
   ],
   "source": [
    "lstm_preds = lstm_model.predict(X_test)\n",
    "print(classification_report(np.argmax(Y_test,1),np.argmax(lstm_preds,1)))\n",
    "conf=confusion_matrix(np.argmax(Y_test,1),np.argmax(lstm_preds,1))\n",
    "sns.heatmap(conf, annot=True, fmt='d', vmax=100)"
   ]
  }
 ],
 "metadata": {
  "kernelspec": {
   "display_name": "ait",
   "language": "python",
   "name": "python3"
  },
  "language_info": {
   "codemirror_mode": {
    "name": "ipython",
    "version": 3
   },
   "file_extension": ".py",
   "mimetype": "text/x-python",
   "name": "python",
   "nbconvert_exporter": "python",
   "pygments_lexer": "ipython3",
   "version": "3.10.10"
  },
  "orig_nbformat": 4
 },
 "nbformat": 4,
 "nbformat_minor": 2
}
